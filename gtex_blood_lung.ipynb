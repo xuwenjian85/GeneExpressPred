{
 "cells": [
  {
   "cell_type": "code",
   "execution_count": 2,
   "metadata": {},
   "outputs": [],
   "source": [
    "import pandas as pd\n",
    "import numpy as np"
   ]
  },
  {
   "cell_type": "code",
   "execution_count": 7,
   "metadata": {},
   "outputs": [],
   "source": [
    "gene_tpm = pd.read_table(\"GTEx_Analysis_2016-01-15_v7_RNASeQCv1.1.8_gene_tpm.gct\",skiprows=2)"
   ]
  },
  {
   "cell_type": "code",
   "execution_count": 147,
   "metadata": {},
   "outputs": [
    {
     "data": {
      "text/html": [
       "<div>\n",
       "<style scoped>\n",
       "    .dataframe tbody tr th:only-of-type {\n",
       "        vertical-align: middle;\n",
       "    }\n",
       "\n",
       "    .dataframe tbody tr th {\n",
       "        vertical-align: top;\n",
       "    }\n",
       "\n",
       "    .dataframe thead th {\n",
       "        text-align: right;\n",
       "    }\n",
       "</style>\n",
       "<table border=\"1\" class=\"dataframe\">\n",
       "  <thead>\n",
       "    <tr style=\"text-align: right;\">\n",
       "      <th></th>\n",
       "      <th>Name</th>\n",
       "      <th>Description</th>\n",
       "      <th>GTEX-1117F-0226-SM-5GZZ7</th>\n",
       "      <th>GTEX-111CU-1826-SM-5GZYN</th>\n",
       "      <th>GTEX-111FC-0226-SM-5N9B8</th>\n",
       "      <th>GTEX-111VG-2326-SM-5N9BK</th>\n",
       "      <th>GTEX-111YS-2426-SM-5GZZQ</th>\n",
       "      <th>GTEX-1122O-2026-SM-5NQ91</th>\n",
       "      <th>GTEX-1128S-2126-SM-5H12U</th>\n",
       "      <th>GTEX-113IC-0226-SM-5HL5C</th>\n",
       "      <th>...</th>\n",
       "      <th>GTEX-ZVE2-0006-SM-51MRW</th>\n",
       "      <th>GTEX-ZVP2-0005-SM-51MRK</th>\n",
       "      <th>GTEX-ZVT2-0005-SM-57WBW</th>\n",
       "      <th>GTEX-ZVT3-0006-SM-51MT9</th>\n",
       "      <th>GTEX-ZVT4-0006-SM-57WB8</th>\n",
       "      <th>GTEX-ZVTK-0006-SM-57WBK</th>\n",
       "      <th>GTEX-ZVZP-0006-SM-51MSW</th>\n",
       "      <th>GTEX-ZVZQ-0006-SM-51MR8</th>\n",
       "      <th>GTEX-ZXES-0005-SM-57WCB</th>\n",
       "      <th>GTEX-ZXG5-0005-SM-57WCN</th>\n",
       "    </tr>\n",
       "  </thead>\n",
       "  <tbody>\n",
       "    <tr>\n",
       "      <th>1</th>\n",
       "      <td>ENSG00000227232.4</td>\n",
       "      <td>WASH7P</td>\n",
       "      <td>21.40000</td>\n",
       "      <td>11.03000</td>\n",
       "      <td>16.75000</td>\n",
       "      <td>8.1720</td>\n",
       "      <td>7.65800</td>\n",
       "      <td>9.372</td>\n",
       "      <td>10.0800</td>\n",
       "      <td>13.56000</td>\n",
       "      <td>...</td>\n",
       "      <td>3.92600</td>\n",
       "      <td>13.13000</td>\n",
       "      <td>5.53700</td>\n",
       "      <td>5.78900</td>\n",
       "      <td>8.439</td>\n",
       "      <td>7.84300</td>\n",
       "      <td>12.39000</td>\n",
       "      <td>12.53000</td>\n",
       "      <td>8.02700</td>\n",
       "      <td>12.76000</td>\n",
       "    </tr>\n",
       "    <tr>\n",
       "      <th>2</th>\n",
       "      <td>ENSG00000243485.2</td>\n",
       "      <td>MIR1302-11</td>\n",
       "      <td>0.16020</td>\n",
       "      <td>0.06433</td>\n",
       "      <td>0.04674</td>\n",
       "      <td>0.0000</td>\n",
       "      <td>0.05864</td>\n",
       "      <td>0.000</td>\n",
       "      <td>0.1367</td>\n",
       "      <td>0.20790</td>\n",
       "      <td>...</td>\n",
       "      <td>0.08008</td>\n",
       "      <td>0.03607</td>\n",
       "      <td>0.00000</td>\n",
       "      <td>0.10590</td>\n",
       "      <td>0.000</td>\n",
       "      <td>0.06432</td>\n",
       "      <td>0.05388</td>\n",
       "      <td>0.00000</td>\n",
       "      <td>0.04756</td>\n",
       "      <td>0.05367</td>\n",
       "    </tr>\n",
       "    <tr>\n",
       "      <th>3</th>\n",
       "      <td>ENSG00000237613.2</td>\n",
       "      <td>FAM138A</td>\n",
       "      <td>0.05045</td>\n",
       "      <td>0.00000</td>\n",
       "      <td>0.02945</td>\n",
       "      <td>0.0326</td>\n",
       "      <td>0.00000</td>\n",
       "      <td>0.000</td>\n",
       "      <td>0.0861</td>\n",
       "      <td>0.13100</td>\n",
       "      <td>...</td>\n",
       "      <td>0.00000</td>\n",
       "      <td>0.06818</td>\n",
       "      <td>0.07309</td>\n",
       "      <td>0.03336</td>\n",
       "      <td>0.000</td>\n",
       "      <td>0.08105</td>\n",
       "      <td>0.00000</td>\n",
       "      <td>0.05304</td>\n",
       "      <td>0.02996</td>\n",
       "      <td>0.03381</td>\n",
       "    </tr>\n",
       "    <tr>\n",
       "      <th>4</th>\n",
       "      <td>ENSG00000268020.2</td>\n",
       "      <td>OR4G4P</td>\n",
       "      <td>0.00000</td>\n",
       "      <td>0.00000</td>\n",
       "      <td>0.00000</td>\n",
       "      <td>0.0000</td>\n",
       "      <td>0.00000</td>\n",
       "      <td>0.000</td>\n",
       "      <td>0.1108</td>\n",
       "      <td>0.05619</td>\n",
       "      <td>...</td>\n",
       "      <td>0.00000</td>\n",
       "      <td>0.00000</td>\n",
       "      <td>0.00000</td>\n",
       "      <td>0.00000</td>\n",
       "      <td>0.000</td>\n",
       "      <td>0.00000</td>\n",
       "      <td>0.08739</td>\n",
       "      <td>0.00000</td>\n",
       "      <td>0.00000</td>\n",
       "      <td>0.04353</td>\n",
       "    </tr>\n",
       "  </tbody>\n",
       "</table>\n",
       "<p>4 rows × 11690 columns</p>\n",
       "</div>"
      ],
      "text/plain": [
       "                Name Description  GTEX-1117F-0226-SM-5GZZ7  \\\n",
       "1  ENSG00000227232.4      WASH7P                  21.40000   \n",
       "2  ENSG00000243485.2  MIR1302-11                   0.16020   \n",
       "3  ENSG00000237613.2     FAM138A                   0.05045   \n",
       "4  ENSG00000268020.2      OR4G4P                   0.00000   \n",
       "\n",
       "   GTEX-111CU-1826-SM-5GZYN  GTEX-111FC-0226-SM-5N9B8  \\\n",
       "1                  11.03000                  16.75000   \n",
       "2                   0.06433                   0.04674   \n",
       "3                   0.00000                   0.02945   \n",
       "4                   0.00000                   0.00000   \n",
       "\n",
       "   GTEX-111VG-2326-SM-5N9BK  GTEX-111YS-2426-SM-5GZZQ  \\\n",
       "1                    8.1720                   7.65800   \n",
       "2                    0.0000                   0.05864   \n",
       "3                    0.0326                   0.00000   \n",
       "4                    0.0000                   0.00000   \n",
       "\n",
       "   GTEX-1122O-2026-SM-5NQ91  GTEX-1128S-2126-SM-5H12U  \\\n",
       "1                     9.372                   10.0800   \n",
       "2                     0.000                    0.1367   \n",
       "3                     0.000                    0.0861   \n",
       "4                     0.000                    0.1108   \n",
       "\n",
       "   GTEX-113IC-0226-SM-5HL5C           ...             GTEX-ZVE2-0006-SM-51MRW  \\\n",
       "1                  13.56000           ...                             3.92600   \n",
       "2                   0.20790           ...                             0.08008   \n",
       "3                   0.13100           ...                             0.00000   \n",
       "4                   0.05619           ...                             0.00000   \n",
       "\n",
       "   GTEX-ZVP2-0005-SM-51MRK  GTEX-ZVT2-0005-SM-57WBW  GTEX-ZVT3-0006-SM-51MT9  \\\n",
       "1                 13.13000                  5.53700                  5.78900   \n",
       "2                  0.03607                  0.00000                  0.10590   \n",
       "3                  0.06818                  0.07309                  0.03336   \n",
       "4                  0.00000                  0.00000                  0.00000   \n",
       "\n",
       "   GTEX-ZVT4-0006-SM-57WB8  GTEX-ZVTK-0006-SM-57WBK  GTEX-ZVZP-0006-SM-51MSW  \\\n",
       "1                    8.439                  7.84300                 12.39000   \n",
       "2                    0.000                  0.06432                  0.05388   \n",
       "3                    0.000                  0.08105                  0.00000   \n",
       "4                    0.000                  0.00000                  0.08739   \n",
       "\n",
       "   GTEX-ZVZQ-0006-SM-51MR8  GTEX-ZXES-0005-SM-57WCB  GTEX-ZXG5-0005-SM-57WCN  \n",
       "1                 12.53000                  8.02700                 12.76000  \n",
       "2                  0.00000                  0.04756                  0.05367  \n",
       "3                  0.05304                  0.02996                  0.03381  \n",
       "4                  0.00000                  0.00000                  0.04353  \n",
       "\n",
       "[4 rows x 11690 columns]"
      ]
     },
     "execution_count": 147,
     "metadata": {},
     "output_type": "execute_result"
    }
   ],
   "source": [
    "gene_tpm[1:5]"
   ]
  },
  {
   "cell_type": "code",
   "execution_count": 15,
   "metadata": {},
   "outputs": [],
   "source": [
    "samples = pd.read_table(\"GTEx_v7_Annotations_SampleAttributesDS-blood_lung-ONLY.txt\")"
   ]
  },
  {
   "cell_type": "code",
   "execution_count": 145,
   "metadata": {},
   "outputs": [
    {
     "data": {
      "text/html": [
       "<div>\n",
       "<style scoped>\n",
       "    .dataframe tbody tr th:only-of-type {\n",
       "        vertical-align: middle;\n",
       "    }\n",
       "\n",
       "    .dataframe tbody tr th {\n",
       "        vertical-align: top;\n",
       "    }\n",
       "\n",
       "    .dataframe thead th {\n",
       "        text-align: right;\n",
       "    }\n",
       "</style>\n",
       "<table border=\"1\" class=\"dataframe\">\n",
       "  <thead>\n",
       "    <tr style=\"text-align: right;\">\n",
       "      <th></th>\n",
       "      <th>SUBJID</th>\n",
       "      <th>SAMPID</th>\n",
       "      <th>SMTS</th>\n",
       "      <th>SMTSD</th>\n",
       "    </tr>\n",
       "  </thead>\n",
       "  <tbody>\n",
       "    <tr>\n",
       "      <th>1</th>\n",
       "      <td>GTEX-111YS</td>\n",
       "      <td>GTEX-111YS-0626-SM-5GZXV</td>\n",
       "      <td>Lung</td>\n",
       "      <td>Lung</td>\n",
       "    </tr>\n",
       "    <tr>\n",
       "      <th>2</th>\n",
       "      <td>GTEX-1122O</td>\n",
       "      <td>GTEX-1122O-0005-SM-5O99J</td>\n",
       "      <td>Blood</td>\n",
       "      <td>Whole Blood</td>\n",
       "    </tr>\n",
       "    <tr>\n",
       "      <th>3</th>\n",
       "      <td>GTEX-1122O</td>\n",
       "      <td>GTEX-1122O-0126-SM-5GICA</td>\n",
       "      <td>Lung</td>\n",
       "      <td>Lung</td>\n",
       "    </tr>\n",
       "    <tr>\n",
       "      <th>4</th>\n",
       "      <td>GTEX-1128S</td>\n",
       "      <td>GTEX-1128S-0005-SM-5P9HI</td>\n",
       "      <td>Blood</td>\n",
       "      <td>Whole Blood</td>\n",
       "    </tr>\n",
       "  </tbody>\n",
       "</table>\n",
       "</div>"
      ],
      "text/plain": [
       "       SUBJID                    SAMPID   SMTS        SMTSD\n",
       "1  GTEX-111YS  GTEX-111YS-0626-SM-5GZXV   Lung         Lung\n",
       "2  GTEX-1122O  GTEX-1122O-0005-SM-5O99J  Blood  Whole Blood\n",
       "3  GTEX-1122O  GTEX-1122O-0126-SM-5GICA   Lung         Lung\n",
       "4  GTEX-1128S  GTEX-1128S-0005-SM-5P9HI  Blood  Whole Blood"
      ]
     },
     "execution_count": 145,
     "metadata": {},
     "output_type": "execute_result"
    }
   ],
   "source": [
    "samples[1:5]"
   ]
  },
  {
   "cell_type": "code",
   "execution_count": 49,
   "metadata": {},
   "outputs": [
    {
     "data": {
      "text/plain": [
       "array(['GTEX-1122O-0126-SM-5GICA', 'GTEX-1128S-0726-SM-5N9D6',\n",
       "       'GTEX-117YW-0526-SM-5H11C', 'GTEX-11DXX-0626-SM-5Q5AG'],\n",
       "      dtype=object)"
      ]
     },
     "execution_count": 49,
     "metadata": {},
     "output_type": "execute_result"
    }
   ],
   "source": [
    "samples[samples.SMTS == \"Lung\"].SAMPID.values[1:5]\n",
    "# [[\"Name\", \"Description\"] + list(samples[samples.SMTS == \"Lung\"].SAMPID.values)]"
   ]
  },
  {
   "cell_type": "code",
   "execution_count": 51,
   "metadata": {},
   "outputs": [],
   "source": [
    "lung_gene_tpm = gene_tpm[[\"Name\", \"Description\"] + list(samples[samples.SMTS == \"Lung\"].SAMPID.values)]\n",
    "blood_gene_tpm = gene_tpm[[\"Name\", \"Description\"] + list(samples[samples.SMTS == \"Blood\"].SAMPID.values)]"
   ]
  },
  {
   "cell_type": "code",
   "execution_count": 52,
   "metadata": {},
   "outputs": [],
   "source": [
    "blood_gene_tpm.to_csv(\"blood_gene_tpm.txt\",sep= '\\t')\n",
    "lung_gene_tpm.to_csv(\"lung_gene_tpm.txt\",sep= '\\t')"
   ]
  },
  {
   "cell_type": "code",
   "execution_count": 133,
   "metadata": {},
   "outputs": [],
   "source": [
    "temp = lung_gene_tpm.iloc[1:200,2:].transpose().corr().abs()"
   ]
  },
  {
   "cell_type": "code",
   "execution_count": 137,
   "metadata": {},
   "outputs": [],
   "source": [
    "np.fill_diagonal(temp.values, 0)"
   ]
  },
  {
   "cell_type": "code",
   "execution_count": 141,
   "metadata": {},
   "outputs": [
    {
     "data": {
      "text/plain": [
       "<matplotlib.axes._subplots.AxesSubplot at 0x2ca64b2f978>"
      ]
     },
     "execution_count": 141,
     "metadata": {},
     "output_type": "execute_result"
    },
    {
     "data": {
      "image/png": "[encoded data removed]",
      "text/plain": [
       "<Figure size 432x288 with 1 Axes>"
      ]
     },
     "metadata": {
      "needs_background": "light"
     },
     "output_type": "display_data"
    }
   ],
   "source": [
    "temp.stack().hist(bins=100)"
   ]
  },
  {
   "cell_type": "code",
   "execution_count": 144,
   "metadata": {},
   "outputs": [
    {
     "data": {
      "text/plain": [
       "count    38419.000000\n",
       "mean         0.127298\n",
       "std          0.133223\n",
       "min          0.000000\n",
       "20%          0.027871\n",
       "40%          0.060827\n",
       "50%          0.081341\n",
       "60%          0.107263\n",
       "80%          0.204333\n",
       "90%          0.311681\n",
       "max          0.974524\n",
       "dtype: float64"
      ]
     },
     "execution_count": 144,
     "metadata": {},
     "output_type": "execute_result"
    }
   ],
   "source": [
    "temp.stack().describe(percentiles = [0.2,0.4,0.5,0.6,0.8,0.9])"
   ]
  }
 ],
 "metadata": {
  "kernelspec": {
   "display_name": "Python 3",
   "language": "python",
   "name": "python3"
  },
  "language_info": {
   "codemirror_mode": {
    "name": "ipython",
    "version": 3
   },
   "file_extension": ".py",
   "mimetype": "text/x-python",
   "name": "python",
   "nbconvert_exporter": "python",
   "pygments_lexer": "ipython3",
   "version": "3.7.0"
  }
 },
 "nbformat": 4,
 "nbformat_minor": 2
}
