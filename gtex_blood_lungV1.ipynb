{
 "cells": [
  {
   "cell_type": "code",
   "execution_count": 1,
   "metadata": {},
   "outputs": [],
   "source": [
    "import pandas as pd\n",
    "import numpy as np\n",
    "import matplotlib.pyplot as plt"
   ]
  },
  {
   "cell_type": "code",
   "execution_count": 2,
   "metadata": {},
   "outputs": [],
   "source": [
    "gene_tpm = pd.read_table(\"GTEx_Analysis_2016-01-15_v7_RNASeQCv1.1.8_gene_tpm.gct\",skiprows=2)"
   ]
  },
  {
   "cell_type": "code",
   "execution_count": 39,
   "metadata": {},
   "outputs": [
    {
     "data": {
      "text/plain": [
       "Name                        56202\n",
       "Description                 56202\n",
       "GTEX-1117F-0226-SM-5GZZ7    56202\n",
       "GTEX-111CU-1826-SM-5GZYN    56202\n",
       "GTEX-111FC-0226-SM-5N9B8    56202\n",
       "dtype: int64"
      ]
     },
     "execution_count": 39,
     "metadata": {},
     "output_type": "execute_result"
    }
   ],
   "source": [
    "gene_tpm.count()[0:5]"
   ]
  },
  {
   "cell_type": "code",
   "execution_count": 11,
   "metadata": {},
   "outputs": [],
   "source": [
    "samples = pd.read_table(\"GTEx_v7_Annotations_SampleAttributesDS-blood_lung-ONLY.txt\")"
   ]
  },
  {
   "cell_type": "code",
   "execution_count": 15,
   "metadata": {},
   "outputs": [
    {
     "data": {
      "text/html": [
       "<div>\n",
       "<style scoped>\n",
       "    .dataframe tbody tr th:only-of-type {\n",
       "        vertical-align: middle;\n",
       "    }\n",
       "\n",
       "    .dataframe tbody tr th {\n",
       "        vertical-align: top;\n",
       "    }\n",
       "\n",
       "    .dataframe thead th {\n",
       "        text-align: right;\n",
       "    }\n",
       "</style>\n",
       "<table border=\"1\" class=\"dataframe\">\n",
       "  <thead>\n",
       "    <tr style=\"text-align: right;\">\n",
       "      <th></th>\n",
       "      <th>SUBJID</th>\n",
       "      <th>SAMPID</th>\n",
       "      <th>SMTS</th>\n",
       "      <th>SMTSD</th>\n",
       "    </tr>\n",
       "  </thead>\n",
       "  <tbody>\n",
       "    <tr>\n",
       "      <th>1</th>\n",
       "      <td>GTEX-111YS</td>\n",
       "      <td>GTEX-111YS-0626-SM-5GZXV</td>\n",
       "      <td>Lung</td>\n",
       "      <td>Lung</td>\n",
       "    </tr>\n",
       "    <tr>\n",
       "      <th>2</th>\n",
       "      <td>GTEX-1122O</td>\n",
       "      <td>GTEX-1122O-0005-SM-5O99J</td>\n",
       "      <td>Blood</td>\n",
       "      <td>Whole Blood</td>\n",
       "    </tr>\n",
       "    <tr>\n",
       "      <th>3</th>\n",
       "      <td>GTEX-1122O</td>\n",
       "      <td>GTEX-1122O-0126-SM-5GICA</td>\n",
       "      <td>Lung</td>\n",
       "      <td>Lung</td>\n",
       "    </tr>\n",
       "    <tr>\n",
       "      <th>4</th>\n",
       "      <td>GTEX-1128S</td>\n",
       "      <td>GTEX-1128S-0005-SM-5P9HI</td>\n",
       "      <td>Blood</td>\n",
       "      <td>Whole Blood</td>\n",
       "    </tr>\n",
       "  </tbody>\n",
       "</table>\n",
       "</div>"
      ],
      "text/plain": [
       "       SUBJID                    SAMPID   SMTS        SMTSD\n",
       "1  GTEX-111YS  GTEX-111YS-0626-SM-5GZXV   Lung         Lung\n",
       "2  GTEX-1122O  GTEX-1122O-0005-SM-5O99J  Blood  Whole Blood\n",
       "3  GTEX-1122O  GTEX-1122O-0126-SM-5GICA   Lung         Lung\n",
       "4  GTEX-1128S  GTEX-1128S-0005-SM-5P9HI  Blood  Whole Blood"
      ]
     },
     "execution_count": 15,
     "metadata": {},
     "output_type": "execute_result"
    }
   ],
   "source": [
    "samples[1:5]"
   ]
  },
  {
   "cell_type": "code",
   "execution_count": 16,
   "metadata": {},
   "outputs": [
    {
     "data": {
      "text/plain": [
       "array(['GTEX-1122O-0126-SM-5GICA', 'GTEX-1128S-0726-SM-5N9D6',\n",
       "       'GTEX-117YW-0526-SM-5H11C', 'GTEX-11DXX-0626-SM-5Q5AG'],\n",
       "      dtype=object)"
      ]
     },
     "execution_count": 16,
     "metadata": {},
     "output_type": "execute_result"
    }
   ],
   "source": [
    "samples[samples.SMTS == \"Lung\"].SAMPID.values[1:5]\n",
    "# [[\"Name\", \"Description\"] + list(samples[samples.SMTS == \"Lung\"].SAMPID.values)]"
   ]
  },
  {
   "cell_type": "code",
   "execution_count": 14,
   "metadata": {},
   "outputs": [],
   "source": [
    "lung_gene_tpm = gene_tpm[[\"Name\", \"Description\"] + list(samples[samples.SMTS == \"Lung\"].SAMPID.values)]\n",
    "blood_gene_tpm = gene_tpm[[\"Name\", \"Description\"] + list(samples[samples.SMTS == \"Blood\"].SAMPID.values)]"
   ]
  },
  {
   "cell_type": "code",
   "execution_count": 52,
   "metadata": {},
   "outputs": [],
   "source": [
    "blood_gene_tpm.to_csv(\"blood_gene_tpm.txt\",sep= '\\t')\n",
    "lung_gene_tpm.to_csv(\"lung_gene_tpm.txt\",sep= '\\t')"
   ]
  },
  {
   "cell_type": "code",
   "execution_count": 2,
   "metadata": {},
   "outputs": [],
   "source": [
    "blood_gene_tpm = pd.read_table(\"blood_gene_tpm.txt\",index_col=1)\n",
    "lung_gene_tpm = pd.read_table(\"lung_gene_tpm.txt\", index_col=1)"
   ]
  },
  {
   "cell_type": "code",
   "execution_count": 3,
   "metadata": {},
   "outputs": [
    {
     "data": {
      "text/html": [
       "<div>\n",
       "<style scoped>\n",
       "    .dataframe tbody tr th:only-of-type {\n",
       "        vertical-align: middle;\n",
       "    }\n",
       "\n",
       "    .dataframe tbody tr th {\n",
       "        vertical-align: top;\n",
       "    }\n",
       "\n",
       "    .dataframe thead th {\n",
       "        text-align: right;\n",
       "    }\n",
       "</style>\n",
       "<table border=\"1\" class=\"dataframe\">\n",
       "  <thead>\n",
       "    <tr style=\"text-align: right;\">\n",
       "      <th></th>\n",
       "      <th>Unnamed: 0</th>\n",
       "      <th>Description</th>\n",
       "      <th>GTEX-111YS-0006-SM-5NQBE</th>\n",
       "      <th>GTEX-1122O-0005-SM-5O99J</th>\n",
       "      <th>GTEX-1128S-0005-SM-5P9HI</th>\n",
       "      <th>GTEX-117YW-0005-SM-5NQ8Z</th>\n",
       "      <th>GTEX-11DXX-0005-SM-5NQ8B</th>\n",
       "      <th>GTEX-11DXZ-0006-SM-5LZZH</th>\n",
       "      <th>GTEX-11EI6-0005-SM-5N9GN</th>\n",
       "      <th>GTEX-11EMC-0006-SM-5O9DN</th>\n",
       "      <th>...</th>\n",
       "      <th>GTEX-ZPIC-0005-SM-4WWEB</th>\n",
       "      <th>GTEX-ZPU1-0006-SM-4WWAT</th>\n",
       "      <th>GTEX-ZQG8-0005-SM-4YCEH</th>\n",
       "      <th>GTEX-ZT9W-0005-SM-4YCEG</th>\n",
       "      <th>GTEX-ZTPG-0006-SM-4YCFG</th>\n",
       "      <th>GTEX-ZTTD-0006-SM-51MSJ</th>\n",
       "      <th>GTEX-ZUA1-0005-SM-4YCEV</th>\n",
       "      <th>GTEX-ZVT3-0006-SM-51MT9</th>\n",
       "      <th>GTEX-ZVZQ-0006-SM-51MR8</th>\n",
       "      <th>GTEX-ZXG5-0005-SM-57WCN</th>\n",
       "    </tr>\n",
       "    <tr>\n",
       "      <th>Name</th>\n",
       "      <th></th>\n",
       "      <th></th>\n",
       "      <th></th>\n",
       "      <th></th>\n",
       "      <th></th>\n",
       "      <th></th>\n",
       "      <th></th>\n",
       "      <th></th>\n",
       "      <th></th>\n",
       "      <th></th>\n",
       "      <th></th>\n",
       "      <th></th>\n",
       "      <th></th>\n",
       "      <th></th>\n",
       "      <th></th>\n",
       "      <th></th>\n",
       "      <th></th>\n",
       "      <th></th>\n",
       "      <th></th>\n",
       "      <th></th>\n",
       "      <th></th>\n",
       "    </tr>\n",
       "  </thead>\n",
       "  <tbody>\n",
       "    <tr>\n",
       "      <th>ENSG00000227232.4</th>\n",
       "      <td>1</td>\n",
       "      <td>WASH7P</td>\n",
       "      <td>5.24100</td>\n",
       "      <td>7.903</td>\n",
       "      <td>10.6</td>\n",
       "      <td>10.99</td>\n",
       "      <td>5.832</td>\n",
       "      <td>10.65</td>\n",
       "      <td>13.92000</td>\n",
       "      <td>7.528</td>\n",
       "      <td>...</td>\n",
       "      <td>11.34000</td>\n",
       "      <td>11.71</td>\n",
       "      <td>6.442</td>\n",
       "      <td>7.1740</td>\n",
       "      <td>7.228</td>\n",
       "      <td>4.78700</td>\n",
       "      <td>7.02700</td>\n",
       "      <td>5.7890</td>\n",
       "      <td>12.53</td>\n",
       "      <td>12.76000</td>\n",
       "    </tr>\n",
       "    <tr>\n",
       "      <th>ENSG00000243485.2</th>\n",
       "      <td>2</td>\n",
       "      <td>MIR1302-11</td>\n",
       "      <td>0.04851</td>\n",
       "      <td>0.000</td>\n",
       "      <td>0.0</td>\n",
       "      <td>0.00</td>\n",
       "      <td>0.000</td>\n",
       "      <td>0.00</td>\n",
       "      <td>0.04025</td>\n",
       "      <td>0.000</td>\n",
       "      <td>...</td>\n",
       "      <td>0.08743</td>\n",
       "      <td>0.00</td>\n",
       "      <td>0.000</td>\n",
       "      <td>0.0458</td>\n",
       "      <td>0.000</td>\n",
       "      <td>0.03926</td>\n",
       "      <td>0.04641</td>\n",
       "      <td>0.1059</td>\n",
       "      <td>0.00</td>\n",
       "      <td>0.05367</td>\n",
       "    </tr>\n",
       "  </tbody>\n",
       "</table>\n",
       "<p>2 rows × 273 columns</p>\n",
       "</div>"
      ],
      "text/plain": [
       "                   Unnamed: 0 Description  GTEX-111YS-0006-SM-5NQBE  \\\n",
       "Name                                                                  \n",
       "ENSG00000227232.4           1      WASH7P                   5.24100   \n",
       "ENSG00000243485.2           2  MIR1302-11                   0.04851   \n",
       "\n",
       "                   GTEX-1122O-0005-SM-5O99J  GTEX-1128S-0005-SM-5P9HI  \\\n",
       "Name                                                                    \n",
       "ENSG00000227232.4                     7.903                      10.6   \n",
       "ENSG00000243485.2                     0.000                       0.0   \n",
       "\n",
       "                   GTEX-117YW-0005-SM-5NQ8Z  GTEX-11DXX-0005-SM-5NQ8B  \\\n",
       "Name                                                                    \n",
       "ENSG00000227232.4                     10.99                     5.832   \n",
       "ENSG00000243485.2                      0.00                     0.000   \n",
       "\n",
       "                   GTEX-11DXZ-0006-SM-5LZZH  GTEX-11EI6-0005-SM-5N9GN  \\\n",
       "Name                                                                    \n",
       "ENSG00000227232.4                     10.65                  13.92000   \n",
       "ENSG00000243485.2                      0.00                   0.04025   \n",
       "\n",
       "                   GTEX-11EMC-0006-SM-5O9DN           ...             \\\n",
       "Name                                                  ...              \n",
       "ENSG00000227232.4                     7.528           ...              \n",
       "ENSG00000243485.2                     0.000           ...              \n",
       "\n",
       "                   GTEX-ZPIC-0005-SM-4WWEB  GTEX-ZPU1-0006-SM-4WWAT  \\\n",
       "Name                                                                  \n",
       "ENSG00000227232.4                 11.34000                    11.71   \n",
       "ENSG00000243485.2                  0.08743                     0.00   \n",
       "\n",
       "                   GTEX-ZQG8-0005-SM-4YCEH  GTEX-ZT9W-0005-SM-4YCEG  \\\n",
       "Name                                                                  \n",
       "ENSG00000227232.4                    6.442                   7.1740   \n",
       "ENSG00000243485.2                    0.000                   0.0458   \n",
       "\n",
       "                   GTEX-ZTPG-0006-SM-4YCFG  GTEX-ZTTD-0006-SM-51MSJ  \\\n",
       "Name                                                                  \n",
       "ENSG00000227232.4                    7.228                  4.78700   \n",
       "ENSG00000243485.2                    0.000                  0.03926   \n",
       "\n",
       "                   GTEX-ZUA1-0005-SM-4YCEV  GTEX-ZVT3-0006-SM-51MT9  \\\n",
       "Name                                                                  \n",
       "ENSG00000227232.4                  7.02700                   5.7890   \n",
       "ENSG00000243485.2                  0.04641                   0.1059   \n",
       "\n",
       "                   GTEX-ZVZQ-0006-SM-51MR8  GTEX-ZXG5-0005-SM-57WCN  \n",
       "Name                                                                 \n",
       "ENSG00000227232.4                    12.53                 12.76000  \n",
       "ENSG00000243485.2                     0.00                  0.05367  \n",
       "\n",
       "[2 rows x 273 columns]"
      ]
     },
     "execution_count": 3,
     "metadata": {},
     "output_type": "execute_result"
    }
   ],
   "source": [
    "blood_gene_tpm[1:3]"
   ]
  },
  {
   "cell_type": "code",
   "execution_count": 5,
   "metadata": {},
   "outputs": [
    {
     "data": {
      "text/plain": [
       "snoU13      457\n",
       "U3           80\n",
       "SNORD112     48\n",
       "SNORA70      30\n",
       "Name: Description, dtype: int64"
      ]
     },
     "execution_count": 5,
     "metadata": {},
     "output_type": "execute_result"
    }
   ],
   "source": [
    "lung_gene_tpm['Description'].value_counts()[1:5]"
   ]
  },
  {
   "cell_type": "code",
   "execution_count": 9,
   "metadata": {},
   "outputs": [
    {
     "data": {
      "text/html": [
       "<div>\n",
       "<style scoped>\n",
       "    .dataframe tbody tr th:only-of-type {\n",
       "        vertical-align: middle;\n",
       "    }\n",
       "\n",
       "    .dataframe tbody tr th {\n",
       "        vertical-align: top;\n",
       "    }\n",
       "\n",
       "    .dataframe thead th {\n",
       "        text-align: right;\n",
       "    }\n",
       "</style>\n",
       "<table border=\"1\" class=\"dataframe\">\n",
       "  <thead>\n",
       "    <tr style=\"text-align: right;\">\n",
       "      <th>Name</th>\n",
       "      <th>ENSG00000223972.4</th>\n",
       "      <th>ENSG00000227232.4</th>\n",
       "    </tr>\n",
       "  </thead>\n",
       "  <tbody>\n",
       "    <tr>\n",
       "      <th>Unnamed: 0</th>\n",
       "      <td>0</td>\n",
       "      <td>1</td>\n",
       "    </tr>\n",
       "    <tr>\n",
       "      <th>Description</th>\n",
       "      <td>DDX11L1</td>\n",
       "      <td>WASH7P</td>\n",
       "    </tr>\n",
       "    <tr>\n",
       "      <th>GTEX-111YS-0626-SM-5GZXV</th>\n",
       "      <td>0.02705</td>\n",
       "      <td>6.074</td>\n",
       "    </tr>\n",
       "  </tbody>\n",
       "</table>\n",
       "</div>"
      ],
      "text/plain": [
       "Name                     ENSG00000223972.4 ENSG00000227232.4\n",
       "Unnamed: 0                               0                 1\n",
       "Description                        DDX11L1            WASH7P\n",
       "GTEX-111YS-0626-SM-5GZXV           0.02705             6.074"
      ]
     },
     "execution_count": 9,
     "metadata": {},
     "output_type": "execute_result"
    }
   ],
   "source": [
    "# for lung_gene_tpm\n",
    "lung_gene_tpm.iloc[0:2,0:3].transpose()"
   ]
  },
  {
   "cell_type": "code",
   "execution_count": 6,
   "metadata": {},
   "outputs": [
    {
     "data": {
      "text/plain": [
       "(56202, 273)"
      ]
     },
     "execution_count": 6,
     "metadata": {},
     "output_type": "execute_result"
    }
   ],
   "source": [
    "lung_gene_tpm.shape"
   ]
  },
  {
   "cell_type": "markdown",
   "metadata": {},
   "source": [
    "lung and blood transpose"
   ]
  },
  {
   "cell_type": "code",
   "execution_count": 8,
   "metadata": {},
   "outputs": [
    {
     "data": {
      "text/plain": [
       "((271, 56202), (271, 56202))"
      ]
     },
     "execution_count": 8,
     "metadata": {},
     "output_type": "execute_result"
    }
   ],
   "source": [
    "gene_count = lung_gene_tpm.shape[0] # also equal to \n",
    "step = 1000\n",
    "i,j = 0,0\n",
    "\n",
    "lung_gene_tpm_T = pd.DataFrame(index=lung_gene_tpm.columns[2:]) # empty df\n",
    "blood_gene_tpm_T = pd.DataFrame(index=blood_gene_tpm.columns[2:]) # empty df\n",
    "\n",
    "while i < gene_count:\n",
    "    j = i + step\n",
    "    if j > gene_count: j = gene_count\n",
    "    batch = lung_gene_tpm.iloc[i:j,2:].transpose()\n",
    "    lung_gene_tpm_T = pd.concat([lung_gene_tpm_T, batch], axis= 1)\n",
    "    batch = blood_gene_tpm.iloc[i:j,2:].transpose()\n",
    "    blood_gene_tpm_T = pd.concat([blood_gene_tpm_T, batch], axis= 1)\n",
    "    i=j\n",
    "lung_gene_tpm_T.shape, blood_gene_tpm_T.shape"
   ]
  },
  {
   "cell_type": "markdown",
   "metadata": {},
   "source": [
    "转置后：样本为行，基因为列"
   ]
  },
  {
   "cell_type": "code",
   "execution_count": 11,
   "metadata": {},
   "outputs": [
    {
     "data": {
      "text/html": [
       "<div>\n",
       "<style scoped>\n",
       "    .dataframe tbody tr th:only-of-type {\n",
       "        vertical-align: middle;\n",
       "    }\n",
       "\n",
       "    .dataframe tbody tr th {\n",
       "        vertical-align: top;\n",
       "    }\n",
       "\n",
       "    .dataframe thead th {\n",
       "        text-align: right;\n",
       "    }\n",
       "</style>\n",
       "<table border=\"1\" class=\"dataframe\">\n",
       "  <thead>\n",
       "    <tr style=\"text-align: right;\">\n",
       "      <th></th>\n",
       "      <th>ENSG00000223972.4</th>\n",
       "      <th>ENSG00000227232.4</th>\n",
       "      <th>ENSG00000243485.2</th>\n",
       "      <th>ENSG00000237613.2</th>\n",
       "      <th>ENSG00000268020.2</th>\n",
       "      <th>ENSG00000240361.1</th>\n",
       "      <th>ENSG00000186092.4</th>\n",
       "      <th>ENSG00000238009.2</th>\n",
       "      <th>ENSG00000233750.3</th>\n",
       "      <th>ENSG00000237683.5</th>\n",
       "      <th>...</th>\n",
       "      <th>ENSG00000198886.2</th>\n",
       "      <th>ENSG00000210176.1</th>\n",
       "      <th>ENSG00000210184.1</th>\n",
       "      <th>ENSG00000210191.1</th>\n",
       "      <th>ENSG00000198786.2</th>\n",
       "      <th>ENSG00000198695.2</th>\n",
       "      <th>ENSG00000210194.1</th>\n",
       "      <th>ENSG00000198727.2</th>\n",
       "      <th>ENSG00000210195.2</th>\n",
       "      <th>ENSG00000210196.2</th>\n",
       "    </tr>\n",
       "  </thead>\n",
       "  <tbody>\n",
       "    <tr>\n",
       "      <th>count</th>\n",
       "      <td>271.000000</td>\n",
       "      <td>271.000000</td>\n",
       "      <td>271.000000</td>\n",
       "      <td>271.000000</td>\n",
       "      <td>271.000000</td>\n",
       "      <td>271.000000</td>\n",
       "      <td>271.000000</td>\n",
       "      <td>271.000000</td>\n",
       "      <td>271.000000</td>\n",
       "      <td>271.000000</td>\n",
       "      <td>...</td>\n",
       "      <td>271.000000</td>\n",
       "      <td>271.000000</td>\n",
       "      <td>271.000000</td>\n",
       "      <td>271.000000</td>\n",
       "      <td>271.000000</td>\n",
       "      <td>271.000000</td>\n",
       "      <td>271.000000</td>\n",
       "      <td>271.000000</td>\n",
       "      <td>271.000000</td>\n",
       "      <td>271.000000</td>\n",
       "    </tr>\n",
       "    <tr>\n",
       "      <th>mean</th>\n",
       "      <td>0.195706</td>\n",
       "      <td>9.296273</td>\n",
       "      <td>0.040774</td>\n",
       "      <td>0.028696</td>\n",
       "      <td>0.016297</td>\n",
       "      <td>0.021055</td>\n",
       "      <td>0.024973</td>\n",
       "      <td>0.328771</td>\n",
       "      <td>1.641614</td>\n",
       "      <td>259.878487</td>\n",
       "      <td>...</td>\n",
       "      <td>5070.130258</td>\n",
       "      <td>0.403311</td>\n",
       "      <td>0.279224</td>\n",
       "      <td>0.361063</td>\n",
       "      <td>925.425830</td>\n",
       "      <td>1373.807749</td>\n",
       "      <td>6.001719</td>\n",
       "      <td>2882.659410</td>\n",
       "      <td>0.348269</td>\n",
       "      <td>0.367815</td>\n",
       "    </tr>\n",
       "    <tr>\n",
       "      <th>std</th>\n",
       "      <td>0.241658</td>\n",
       "      <td>4.646053</td>\n",
       "      <td>0.068898</td>\n",
       "      <td>0.033836</td>\n",
       "      <td>0.028784</td>\n",
       "      <td>0.035113</td>\n",
       "      <td>0.041384</td>\n",
       "      <td>0.436469</td>\n",
       "      <td>1.790907</td>\n",
       "      <td>208.994881</td>\n",
       "      <td>...</td>\n",
       "      <td>3217.567757</td>\n",
       "      <td>0.712209</td>\n",
       "      <td>0.589935</td>\n",
       "      <td>0.561660</td>\n",
       "      <td>635.381011</td>\n",
       "      <td>1094.192810</td>\n",
       "      <td>7.070258</td>\n",
       "      <td>1843.887713</td>\n",
       "      <td>0.581781</td>\n",
       "      <td>0.575854</td>\n",
       "    </tr>\n",
       "    <tr>\n",
       "      <th>min</th>\n",
       "      <td>0.000000</td>\n",
       "      <td>1.223000</td>\n",
       "      <td>0.000000</td>\n",
       "      <td>0.000000</td>\n",
       "      <td>0.000000</td>\n",
       "      <td>0.000000</td>\n",
       "      <td>0.000000</td>\n",
       "      <td>0.000000</td>\n",
       "      <td>0.015680</td>\n",
       "      <td>17.240000</td>\n",
       "      <td>...</td>\n",
       "      <td>577.900000</td>\n",
       "      <td>0.000000</td>\n",
       "      <td>0.000000</td>\n",
       "      <td>0.000000</td>\n",
       "      <td>118.400000</td>\n",
       "      <td>136.300000</td>\n",
       "      <td>0.000000</td>\n",
       "      <td>388.100000</td>\n",
       "      <td>0.000000</td>\n",
       "      <td>0.000000</td>\n",
       "    </tr>\n",
       "    <tr>\n",
       "      <th>25%</th>\n",
       "      <td>0.054135</td>\n",
       "      <td>5.972000</td>\n",
       "      <td>0.000000</td>\n",
       "      <td>0.000000</td>\n",
       "      <td>0.000000</td>\n",
       "      <td>0.000000</td>\n",
       "      <td>0.000000</td>\n",
       "      <td>0.068155</td>\n",
       "      <td>0.409900</td>\n",
       "      <td>112.150000</td>\n",
       "      <td>...</td>\n",
       "      <td>2785.000000</td>\n",
       "      <td>0.000000</td>\n",
       "      <td>0.000000</td>\n",
       "      <td>0.000000</td>\n",
       "      <td>503.800000</td>\n",
       "      <td>651.750000</td>\n",
       "      <td>2.055000</td>\n",
       "      <td>1694.500000</td>\n",
       "      <td>0.000000</td>\n",
       "      <td>0.000000</td>\n",
       "    </tr>\n",
       "    <tr>\n",
       "      <th>50%</th>\n",
       "      <td>0.117500</td>\n",
       "      <td>8.137000</td>\n",
       "      <td>0.000000</td>\n",
       "      <td>0.026080</td>\n",
       "      <td>0.000000</td>\n",
       "      <td>0.000000</td>\n",
       "      <td>0.000000</td>\n",
       "      <td>0.165800</td>\n",
       "      <td>1.154000</td>\n",
       "      <td>218.100000</td>\n",
       "      <td>...</td>\n",
       "      <td>4281.000000</td>\n",
       "      <td>0.000000</td>\n",
       "      <td>0.000000</td>\n",
       "      <td>0.000000</td>\n",
       "      <td>771.600000</td>\n",
       "      <td>1137.000000</td>\n",
       "      <td>4.046000</td>\n",
       "      <td>2380.000000</td>\n",
       "      <td>0.000000</td>\n",
       "      <td>0.000000</td>\n",
       "    </tr>\n",
       "    <tr>\n",
       "      <th>75%</th>\n",
       "      <td>0.263550</td>\n",
       "      <td>11.760000</td>\n",
       "      <td>0.056140</td>\n",
       "      <td>0.043050</td>\n",
       "      <td>0.032735</td>\n",
       "      <td>0.035630</td>\n",
       "      <td>0.042400</td>\n",
       "      <td>0.415400</td>\n",
       "      <td>2.228000</td>\n",
       "      <td>335.050000</td>\n",
       "      <td>...</td>\n",
       "      <td>6560.000000</td>\n",
       "      <td>0.605600</td>\n",
       "      <td>0.482000</td>\n",
       "      <td>0.634150</td>\n",
       "      <td>1146.500000</td>\n",
       "      <td>1667.000000</td>\n",
       "      <td>6.938000</td>\n",
       "      <td>3655.500000</td>\n",
       "      <td>0.589000</td>\n",
       "      <td>0.588750</td>\n",
       "    </tr>\n",
       "    <tr>\n",
       "      <th>max</th>\n",
       "      <td>2.008000</td>\n",
       "      <td>28.980000</td>\n",
       "      <td>0.650200</td>\n",
       "      <td>0.213800</td>\n",
       "      <td>0.163000</td>\n",
       "      <td>0.282700</td>\n",
       "      <td>0.274400</td>\n",
       "      <td>2.671000</td>\n",
       "      <td>14.440000</td>\n",
       "      <td>1668.000000</td>\n",
       "      <td>...</td>\n",
       "      <td>23420.000000</td>\n",
       "      <td>7.237000</td>\n",
       "      <td>4.151000</td>\n",
       "      <td>3.933000</td>\n",
       "      <td>5614.000000</td>\n",
       "      <td>10510.000000</td>\n",
       "      <td>46.480000</td>\n",
       "      <td>14560.000000</td>\n",
       "      <td>3.627000</td>\n",
       "      <td>3.050000</td>\n",
       "    </tr>\n",
       "  </tbody>\n",
       "</table>\n",
       "<p>8 rows × 56202 columns</p>\n",
       "</div>"
      ],
      "text/plain": [
       "       ENSG00000223972.4  ENSG00000227232.4  ENSG00000243485.2  \\\n",
       "count         271.000000         271.000000         271.000000   \n",
       "mean            0.195706           9.296273           0.040774   \n",
       "std             0.241658           4.646053           0.068898   \n",
       "min             0.000000           1.223000           0.000000   \n",
       "25%             0.054135           5.972000           0.000000   \n",
       "50%             0.117500           8.137000           0.000000   \n",
       "75%             0.263550          11.760000           0.056140   \n",
       "max             2.008000          28.980000           0.650200   \n",
       "\n",
       "       ENSG00000237613.2  ENSG00000268020.2  ENSG00000240361.1  \\\n",
       "count         271.000000         271.000000         271.000000   \n",
       "mean            0.028696           0.016297           0.021055   \n",
       "std             0.033836           0.028784           0.035113   \n",
       "min             0.000000           0.000000           0.000000   \n",
       "25%             0.000000           0.000000           0.000000   \n",
       "50%             0.026080           0.000000           0.000000   \n",
       "75%             0.043050           0.032735           0.035630   \n",
       "max             0.213800           0.163000           0.282700   \n",
       "\n",
       "       ENSG00000186092.4  ENSG00000238009.2  ENSG00000233750.3  \\\n",
       "count         271.000000         271.000000         271.000000   \n",
       "mean            0.024973           0.328771           1.641614   \n",
       "std             0.041384           0.436469           1.790907   \n",
       "min             0.000000           0.000000           0.015680   \n",
       "25%             0.000000           0.068155           0.409900   \n",
       "50%             0.000000           0.165800           1.154000   \n",
       "75%             0.042400           0.415400           2.228000   \n",
       "max             0.274400           2.671000          14.440000   \n",
       "\n",
       "       ENSG00000237683.5        ...          ENSG00000198886.2  \\\n",
       "count         271.000000        ...                 271.000000   \n",
       "mean          259.878487        ...                5070.130258   \n",
       "std           208.994881        ...                3217.567757   \n",
       "min            17.240000        ...                 577.900000   \n",
       "25%           112.150000        ...                2785.000000   \n",
       "50%           218.100000        ...                4281.000000   \n",
       "75%           335.050000        ...                6560.000000   \n",
       "max          1668.000000        ...               23420.000000   \n",
       "\n",
       "       ENSG00000210176.1  ENSG00000210184.1  ENSG00000210191.1  \\\n",
       "count         271.000000         271.000000         271.000000   \n",
       "mean            0.403311           0.279224           0.361063   \n",
       "std             0.712209           0.589935           0.561660   \n",
       "min             0.000000           0.000000           0.000000   \n",
       "25%             0.000000           0.000000           0.000000   \n",
       "50%             0.000000           0.000000           0.000000   \n",
       "75%             0.605600           0.482000           0.634150   \n",
       "max             7.237000           4.151000           3.933000   \n",
       "\n",
       "       ENSG00000198786.2  ENSG00000198695.2  ENSG00000210194.1  \\\n",
       "count         271.000000         271.000000         271.000000   \n",
       "mean          925.425830        1373.807749           6.001719   \n",
       "std           635.381011        1094.192810           7.070258   \n",
       "min           118.400000         136.300000           0.000000   \n",
       "25%           503.800000         651.750000           2.055000   \n",
       "50%           771.600000        1137.000000           4.046000   \n",
       "75%          1146.500000        1667.000000           6.938000   \n",
       "max          5614.000000       10510.000000          46.480000   \n",
       "\n",
       "       ENSG00000198727.2  ENSG00000210195.2  ENSG00000210196.2  \n",
       "count         271.000000         271.000000         271.000000  \n",
       "mean         2882.659410           0.348269           0.367815  \n",
       "std          1843.887713           0.581781           0.575854  \n",
       "min           388.100000           0.000000           0.000000  \n",
       "25%          1694.500000           0.000000           0.000000  \n",
       "50%          2380.000000           0.000000           0.000000  \n",
       "75%          3655.500000           0.589000           0.588750  \n",
       "max         14560.000000           3.627000           3.050000  \n",
       "\n",
       "[8 rows x 56202 columns]"
      ]
     },
     "execution_count": 11,
     "metadata": {},
     "output_type": "execute_result"
    }
   ],
   "source": [
    "# blood_gene_tpm_T.describe() #don't run , will take 5 minutes "
   ]
  },
  {
   "cell_type": "markdown",
   "metadata": {},
   "source": [
    "有没有那些基因是在所有血液样本中都有表达呢？ 答：NO"
   ]
  },
  {
   "cell_type": "code",
   "execution_count": 9,
   "metadata": {},
   "outputs": [
    {
     "data": {
      "text/plain": [
       "False    271\n",
       "dtype: int64"
      ]
     },
     "execution_count": 9,
     "metadata": {},
     "output_type": "execute_result"
    }
   ],
   "source": [
    "# np.corrcoef(blood_gene_tpm_T[1],blood_gene_tpm_T[1])\n",
    "blood_gene_tpm_T.all(axis=\"columns\").value_counts()"
   ]
  },
  {
   "cell_type": "markdown",
   "metadata": {},
   "source": [
    "比较血液中两个基因的表达趋势是否相关，以坐标或列名任选两列,简单测试"
   ]
  },
  {
   "cell_type": "code",
   "execution_count": 241,
   "metadata": {},
   "outputs": [
    {
     "data": {
      "text/plain": [
       "0.07217001923441435"
      ]
     },
     "execution_count": 241,
     "metadata": {},
     "output_type": "execute_result"
    }
   ],
   "source": [
    "np.corrcoef(blood_gene_tpm_T.iloc[:,0],blood_gene_tpm_T.iloc[:,2])[0,1] ,\n",
    "np.corrcoef(blood_gene_tpm_T['ENSG00000223972.4'],blood_gene_tpm_T['ENSG00000243485.2'])[0,1]"
   ]
  },
  {
   "cell_type": "code",
   "execution_count": 10,
   "metadata": {},
   "outputs": [
    {
     "data": {
      "text/plain": [
       "<matplotlib.collections.PathCollection at 0x2600029a208>"
      ]
     },
     "execution_count": 10,
     "metadata": {},
     "output_type": "execute_result"
    },
    {
     "data": {
      "image/png": "[encoded data removed]",
      "text/plain": [
       "<Figure size 432x288 with 1 Axes>"
      ]
     },
     "metadata": {
      "needs_background": "light"
     },
     "output_type": "display_data"
    }
   ],
   "source": [
    "plt.scatter(blood_gene_tpm_T.iloc[:,0],blood_gene_tpm_T.iloc[:,2])"
   ]
  },
  {
   "cell_type": "code",
   "execution_count": 282,
   "metadata": {},
   "outputs": [
    {
     "data": {
      "text/plain": [
       "0.3334296542738806"
      ]
     },
     "execution_count": 282,
     "metadata": {},
     "output_type": "execute_result"
    }
   ],
   "source": [
    "np.corrcoef(blood_gene_tpm_T.iloc[:,1],lung_gene_tpm_T.iloc[:,1])[0,1]\n",
    "# np.corrcoef(blood_gene_tpm.iloc[1,2:].astype(float),lung_gene_tpm.iloc[1,2:].astype(float)) \n",
    "# blood_gene_tpm_T[1].corr(blood_gene_tpm_T[1])"
   ]
  },
  {
   "cell_type": "code",
   "execution_count": 11,
   "metadata": {},
   "outputs": [
    {
     "data": {
      "text/plain": [
       "<matplotlib.collections.PathCollection at 0x260003377f0>"
      ]
     },
     "execution_count": 11,
     "metadata": {},
     "output_type": "execute_result"
    },
    {
     "data": {
      "image/png": "[encoded data removed]",
      "text/plain": [
       "<Figure size 432x288 with 1 Axes>"
      ]
     },
     "metadata": {
      "needs_background": "light"
     },
     "output_type": "display_data"
    }
   ],
   "source": [
    "plt.scatter(blood_gene_tpm_T.iloc[:,1], lung_gene_tpm_T.iloc[:,1])"
   ]
  },
  {
   "cell_type": "markdown",
   "metadata": {},
   "source": [
    "写个loop: coorelation coefficient between blood基因 and lung基因（不需要一定是同一个基因）"
   ]
  },
  {
   "cell_type": "code",
   "execution_count": 12,
   "metadata": {},
   "outputs": [
    {
     "data": {
      "text/html": [
       "<div>\n",
       "<style scoped>\n",
       "    .dataframe tbody tr th:only-of-type {\n",
       "        vertical-align: middle;\n",
       "    }\n",
       "\n",
       "    .dataframe tbody tr th {\n",
       "        vertical-align: top;\n",
       "    }\n",
       "\n",
       "    .dataframe thead th {\n",
       "        text-align: right;\n",
       "    }\n",
       "</style>\n",
       "<table border=\"1\" class=\"dataframe\">\n",
       "  <thead>\n",
       "    <tr style=\"text-align: right;\">\n",
       "      <th></th>\n",
       "      <th>ENSG00000223972.4</th>\n",
       "      <th>ENSG00000227232.4</th>\n",
       "      <th>ENSG00000243485.2</th>\n",
       "      <th>ENSG00000237613.2</th>\n",
       "      <th>ENSG00000268020.2</th>\n",
       "      <th>ENSG00000240361.1</th>\n",
       "      <th>ENSG00000186092.4</th>\n",
       "      <th>ENSG00000238009.2</th>\n",
       "      <th>ENSG00000233750.3</th>\n",
       "      <th>ENSG00000237683.5</th>\n",
       "      <th>...</th>\n",
       "      <th>ENSG00000198886.2</th>\n",
       "      <th>ENSG00000210176.1</th>\n",
       "      <th>ENSG00000210184.1</th>\n",
       "      <th>ENSG00000210191.1</th>\n",
       "      <th>ENSG00000198786.2</th>\n",
       "      <th>ENSG00000198695.2</th>\n",
       "      <th>ENSG00000210194.1</th>\n",
       "      <th>ENSG00000198727.2</th>\n",
       "      <th>ENSG00000210195.2</th>\n",
       "      <th>ENSG00000210196.2</th>\n",
       "    </tr>\n",
       "  </thead>\n",
       "  <tbody>\n",
       "    <tr>\n",
       "      <th>0</th>\n",
       "      <td>ENSG00000186998.11</td>\n",
       "      <td>0</td>\n",
       "      <td>0</td>\n",
       "      <td>0</td>\n",
       "      <td>0</td>\n",
       "      <td>0</td>\n",
       "      <td>0</td>\n",
       "      <td>0</td>\n",
       "      <td>0</td>\n",
       "      <td>0</td>\n",
       "      <td>...</td>\n",
       "      <td>0</td>\n",
       "      <td>0</td>\n",
       "      <td>0</td>\n",
       "      <td>0</td>\n",
       "      <td>0</td>\n",
       "      <td>0</td>\n",
       "      <td>0</td>\n",
       "      <td>0</td>\n",
       "      <td>0</td>\n",
       "      <td>0</td>\n",
       "    </tr>\n",
       "    <tr>\n",
       "      <th>1</th>\n",
       "      <td>ENSG00000226115.1</td>\n",
       "      <td>0</td>\n",
       "      <td>0</td>\n",
       "      <td>0</td>\n",
       "      <td>0</td>\n",
       "      <td>0</td>\n",
       "      <td>0</td>\n",
       "      <td>0</td>\n",
       "      <td>0</td>\n",
       "      <td>0</td>\n",
       "      <td>...</td>\n",
       "      <td>0</td>\n",
       "      <td>0</td>\n",
       "      <td>0</td>\n",
       "      <td>0</td>\n",
       "      <td>0</td>\n",
       "      <td>0</td>\n",
       "      <td>0</td>\n",
       "      <td>0</td>\n",
       "      <td>0</td>\n",
       "      <td>0</td>\n",
       "    </tr>\n",
       "    <tr>\n",
       "      <th>2</th>\n",
       "      <td>ENSG00000186743.2</td>\n",
       "      <td>0</td>\n",
       "      <td>0</td>\n",
       "      <td>0</td>\n",
       "      <td>0</td>\n",
       "      <td>0</td>\n",
       "      <td>0</td>\n",
       "      <td>0</td>\n",
       "      <td>0</td>\n",
       "      <td>0</td>\n",
       "      <td>...</td>\n",
       "      <td>0</td>\n",
       "      <td>0</td>\n",
       "      <td>0</td>\n",
       "      <td>0</td>\n",
       "      <td>0</td>\n",
       "      <td>0</td>\n",
       "      <td>0</td>\n",
       "      <td>0</td>\n",
       "      <td>0</td>\n",
       "      <td>0</td>\n",
       "    </tr>\n",
       "    <tr>\n",
       "      <th>3</th>\n",
       "      <td>ENSG00000259799.1</td>\n",
       "      <td>0</td>\n",
       "      <td>0</td>\n",
       "      <td>0</td>\n",
       "      <td>0</td>\n",
       "      <td>0</td>\n",
       "      <td>0</td>\n",
       "      <td>0</td>\n",
       "      <td>0</td>\n",
       "      <td>0</td>\n",
       "      <td>...</td>\n",
       "      <td>0</td>\n",
       "      <td>0</td>\n",
       "      <td>0</td>\n",
       "      <td>0</td>\n",
       "      <td>0</td>\n",
       "      <td>0</td>\n",
       "      <td>0</td>\n",
       "      <td>0</td>\n",
       "      <td>0</td>\n",
       "      <td>0</td>\n",
       "    </tr>\n",
       "    <tr>\n",
       "      <th>4</th>\n",
       "      <td>ENSG00000260574.1</td>\n",
       "      <td>0</td>\n",
       "      <td>0</td>\n",
       "      <td>0</td>\n",
       "      <td>0</td>\n",
       "      <td>0</td>\n",
       "      <td>0</td>\n",
       "      <td>0</td>\n",
       "      <td>0</td>\n",
       "      <td>0</td>\n",
       "      <td>...</td>\n",
       "      <td>0</td>\n",
       "      <td>0</td>\n",
       "      <td>0</td>\n",
       "      <td>0</td>\n",
       "      <td>0</td>\n",
       "      <td>0</td>\n",
       "      <td>0</td>\n",
       "      <td>0</td>\n",
       "      <td>0</td>\n",
       "      <td>0</td>\n",
       "    </tr>\n",
       "    <tr>\n",
       "      <th>5</th>\n",
       "      <td>ENSG00000228195.2</td>\n",
       "      <td>0</td>\n",
       "      <td>0</td>\n",
       "      <td>0</td>\n",
       "      <td>0</td>\n",
       "      <td>0</td>\n",
       "      <td>0</td>\n",
       "      <td>0</td>\n",
       "      <td>0</td>\n",
       "      <td>0</td>\n",
       "      <td>...</td>\n",
       "      <td>0</td>\n",
       "      <td>0</td>\n",
       "      <td>0</td>\n",
       "      <td>0</td>\n",
       "      <td>0</td>\n",
       "      <td>0</td>\n",
       "      <td>0</td>\n",
       "      <td>0</td>\n",
       "      <td>0</td>\n",
       "      <td>0</td>\n",
       "    </tr>\n",
       "    <tr>\n",
       "      <th>6</th>\n",
       "      <td>ENSG00000226557.1</td>\n",
       "      <td>0</td>\n",
       "      <td>0</td>\n",
       "      <td>0</td>\n",
       "      <td>0</td>\n",
       "      <td>0</td>\n",
       "      <td>0</td>\n",
       "      <td>0</td>\n",
       "      <td>0</td>\n",
       "      <td>0</td>\n",
       "      <td>...</td>\n",
       "      <td>0</td>\n",
       "      <td>0</td>\n",
       "      <td>0</td>\n",
       "      <td>0</td>\n",
       "      <td>0</td>\n",
       "      <td>0</td>\n",
       "      <td>0</td>\n",
       "      <td>0</td>\n",
       "      <td>0</td>\n",
       "      <td>0</td>\n",
       "    </tr>\n",
       "    <tr>\n",
       "      <th>7</th>\n",
       "      <td>ENSG00000235511.1</td>\n",
       "      <td>0</td>\n",
       "      <td>0</td>\n",
       "      <td>0</td>\n",
       "      <td>0</td>\n",
       "      <td>0</td>\n",
       "      <td>0</td>\n",
       "      <td>0</td>\n",
       "      <td>0</td>\n",
       "      <td>0</td>\n",
       "      <td>...</td>\n",
       "      <td>0</td>\n",
       "      <td>0</td>\n",
       "      <td>0</td>\n",
       "      <td>0</td>\n",
       "      <td>0</td>\n",
       "      <td>0</td>\n",
       "      <td>0</td>\n",
       "      <td>0</td>\n",
       "      <td>0</td>\n",
       "      <td>0</td>\n",
       "    </tr>\n",
       "    <tr>\n",
       "      <th>8</th>\n",
       "      <td>ENSG00000235587.2</td>\n",
       "      <td>0</td>\n",
       "      <td>0</td>\n",
       "      <td>0</td>\n",
       "      <td>0</td>\n",
       "      <td>0</td>\n",
       "      <td>0</td>\n",
       "      <td>0</td>\n",
       "      <td>0</td>\n",
       "      <td>0</td>\n",
       "      <td>...</td>\n",
       "      <td>0</td>\n",
       "      <td>0</td>\n",
       "      <td>0</td>\n",
       "      <td>0</td>\n",
       "      <td>0</td>\n",
       "      <td>0</td>\n",
       "      <td>0</td>\n",
       "      <td>0</td>\n",
       "      <td>0</td>\n",
       "      <td>0</td>\n",
       "    </tr>\n",
       "    <tr>\n",
       "      <th>9</th>\n",
       "      <td>ENSG00000183520.7</td>\n",
       "      <td>0</td>\n",
       "      <td>0</td>\n",
       "      <td>0</td>\n",
       "      <td>0</td>\n",
       "      <td>0</td>\n",
       "      <td>0</td>\n",
       "      <td>0</td>\n",
       "      <td>0</td>\n",
       "      <td>0</td>\n",
       "      <td>...</td>\n",
       "      <td>0</td>\n",
       "      <td>0</td>\n",
       "      <td>0</td>\n",
       "      <td>0</td>\n",
       "      <td>0</td>\n",
       "      <td>0</td>\n",
       "      <td>0</td>\n",
       "      <td>0</td>\n",
       "      <td>0</td>\n",
       "      <td>0</td>\n",
       "    </tr>\n",
       "  </tbody>\n",
       "</table>\n",
       "<p>10 rows × 56202 columns</p>\n",
       "</div>"
      ],
      "text/plain": [
       "    ENSG00000223972.4  ENSG00000227232.4  ENSG00000243485.2  \\\n",
       "0  ENSG00000186998.11                  0                  0   \n",
       "1   ENSG00000226115.1                  0                  0   \n",
       "2   ENSG00000186743.2                  0                  0   \n",
       "3   ENSG00000259799.1                  0                  0   \n",
       "4   ENSG00000260574.1                  0                  0   \n",
       "5   ENSG00000228195.2                  0                  0   \n",
       "6   ENSG00000226557.1                  0                  0   \n",
       "7   ENSG00000235511.1                  0                  0   \n",
       "8   ENSG00000235587.2                  0                  0   \n",
       "9   ENSG00000183520.7                  0                  0   \n",
       "\n",
       "   ENSG00000237613.2  ENSG00000268020.2  ENSG00000240361.1  ENSG00000186092.4  \\\n",
       "0                  0                  0                  0                  0   \n",
       "1                  0                  0                  0                  0   \n",
       "2                  0                  0                  0                  0   \n",
       "3                  0                  0                  0                  0   \n",
       "4                  0                  0                  0                  0   \n",
       "5                  0                  0                  0                  0   \n",
       "6                  0                  0                  0                  0   \n",
       "7                  0                  0                  0                  0   \n",
       "8                  0                  0                  0                  0   \n",
       "9                  0                  0                  0                  0   \n",
       "\n",
       "   ENSG00000238009.2  ENSG00000233750.3  ENSG00000237683.5        ...          \\\n",
       "0                  0                  0                  0        ...           \n",
       "1                  0                  0                  0        ...           \n",
       "2                  0                  0                  0        ...           \n",
       "3                  0                  0                  0        ...           \n",
       "4                  0                  0                  0        ...           \n",
       "5                  0                  0                  0        ...           \n",
       "6                  0                  0                  0        ...           \n",
       "7                  0                  0                  0        ...           \n",
       "8                  0                  0                  0        ...           \n",
       "9                  0                  0                  0        ...           \n",
       "\n",
       "   ENSG00000198886.2  ENSG00000210176.1  ENSG00000210184.1  ENSG00000210191.1  \\\n",
       "0                  0                  0                  0                  0   \n",
       "1                  0                  0                  0                  0   \n",
       "2                  0                  0                  0                  0   \n",
       "3                  0                  0                  0                  0   \n",
       "4                  0                  0                  0                  0   \n",
       "5                  0                  0                  0                  0   \n",
       "6                  0                  0                  0                  0   \n",
       "7                  0                  0                  0                  0   \n",
       "8                  0                  0                  0                  0   \n",
       "9                  0                  0                  0                  0   \n",
       "\n",
       "   ENSG00000198786.2  ENSG00000198695.2  ENSG00000210194.1  ENSG00000198727.2  \\\n",
       "0                  0                  0                  0                  0   \n",
       "1                  0                  0                  0                  0   \n",
       "2                  0                  0                  0                  0   \n",
       "3                  0                  0                  0                  0   \n",
       "4                  0                  0                  0                  0   \n",
       "5                  0                  0                  0                  0   \n",
       "6                  0                  0                  0                  0   \n",
       "7                  0                  0                  0                  0   \n",
       "8                  0                  0                  0                  0   \n",
       "9                  0                  0                  0                  0   \n",
       "\n",
       "   ENSG00000210195.2  ENSG00000210196.2  \n",
       "0                  0                  0  \n",
       "1                  0                  0  \n",
       "2                  0                  0  \n",
       "3                  0                  0  \n",
       "4                  0                  0  \n",
       "5                  0                  0  \n",
       "6                  0                  0  \n",
       "7                  0                  0  \n",
       "8                  0                  0  \n",
       "9                  0                  0  \n",
       "\n",
       "[10 rows x 56202 columns]"
      ]
     },
     "execution_count": 12,
     "metadata": {},
     "output_type": "execute_result"
    }
   ],
   "source": [
    "top_corr_gene_count = 10\n",
    "# np.zeros(shape=(gene_count,gene_count), dtype=np.int) # TOO large -> MemoryError\n",
    "# lung_blood_corr = np.zeros(shape=(top_corr_gene_count,gene_count), dtype=np.str) \n",
    "lung_blood_corr = pd.DataFrame(data=0,index= range(0,top_corr_gene_count), columns=lung_gene_tpm_T.columns)\n",
    "\n",
    "corr_values = pd.Series(data=np.random.normal(size=gene_count), index= blood_gene_tpm_T.columns,dtype=np.float)\n",
    "\n",
    "lung_blood_corr['ENSG00000223972.4'] = corr_values.abs().sort_values().tail(10).index\n",
    "lung_blood_corr"
   ]
  },
  {
   "cell_type": "code",
   "execution_count": null,
   "metadata": {},
   "outputs": [
    {
     "name": "stderr",
     "output_type": "stream",
     "text": [
      "C:\\Users\\xwj\\Anaconda3\\lib\\site-packages\\numpy\\lib\\function_base.py:2400: RuntimeWarning: invalid value encountered in true_divide\n",
      "  c /= stddev[:, None]\n",
      "C:\\Users\\xwj\\Anaconda3\\lib\\site-packages\\numpy\\lib\\function_base.py:2401: RuntimeWarning: invalid value encountered in true_divide\n",
      "  c /= stddev[None, :]\n"
     ]
    }
   ],
   "source": [
    "for lung_gene in lung_gene_tpm_T.columns:\n",
    "    lung_blood_corr[lung_gene] = 3\n",
    "    # make a temp vector\n",
    "    # corr_values = np.zeros(shape=(gene_count), dtype=np.int)\n",
    "    \n",
    "    corr_values = pd.Series(data=0, \n",
    "                            index= blood_gene_tpm_T.columns,\n",
    "                            dtype=np.float)\n",
    "    \n",
    "    for blood_gene in blood_gene_tpm_T.columns:\n",
    "        corr_values[blood_gene] = np.corrcoef(blood_gene_tpm_T[blood_gene],lung_gene_tpm_T[lung_gene])[0,1]\n",
    "    lung_blood_corr[lung_gene] = corr_values.abs().sort_values().tail(top_corr_gene_count).index\n"
   ]
  },
  {
   "cell_type": "code",
   "execution_count": 24,
   "metadata": {},
   "outputs": [
    {
     "data": {
      "text/plain": [
       "0.1920947319524508"
      ]
     },
     "execution_count": 24,
     "metadata": {},
     "output_type": "execute_result"
    }
   ],
   "source": [
    "lung_blood_corr.iloc[:,0:10]"
   ]
  },
  {
   "cell_type": "markdown",
   "metadata": {},
   "source": [
    "python里的corr函数也能算corelation coefficent，不方便"
   ]
  },
  {
   "cell_type": "code",
   "execution_count": 288,
   "metadata": {},
   "outputs": [
    {
     "data": {
      "text/plain": [
       "count    325.000000\n",
       "mean       0.160123\n",
       "std        0.172534\n",
       "min        0.000000\n",
       "20%        0.023805\n",
       "40%        0.058616\n",
       "50%        0.099530\n",
       "60%        0.146740\n",
       "80%        0.286888\n",
       "90%        0.416680\n",
       "max        0.844252\n",
       "dtype: float64"
      ]
     },
     "execution_count": 288,
     "metadata": {},
     "output_type": "execute_result"
    },
    {
     "data": {
      "image/png": "[encoded data removed]",
      "text/plain": [
       "<Figure size 432x288 with 1 Axes>"
      ]
     },
     "metadata": {
      "needs_background": "light"
     },
     "output_type": "display_data"
    }
   ],
   "source": [
    "temp = lung_gene_tpm.iloc[1:20,2:].transpose().corr().abs()\n",
    "np.fill_diagonal(temp.values, 0)\n",
    "temp.stack().hist(bins=100)\n",
    "temp.stack().describe(percentiles = [0.2,0.4,0.5,0.6,0.8,0.9])\n",
    "# temp = np.corrcoef(blood_gene_tpm_T.iloc[:,1:5],rowvar=False)"
   ]
  },
  {
   "cell_type": "code",
   "execution_count": 253,
   "metadata": {},
   "outputs": [],
   "source": []
  },
  {
   "cell_type": "code",
   "execution_count": 254,
   "metadata": {},
   "outputs": [
    {
     "data": {
      "text/plain": [
       "<matplotlib.axes._subplots.AxesSubplot at 0x2489a3f3a90>"
      ]
     },
     "execution_count": 254,
     "metadata": {},
     "output_type": "execute_result"
    },
    {
     "data": {
      "image/png": "[encoded data removed]",
      "text/plain": [
       "<Figure size 432x288 with 1 Axes>"
      ]
     },
     "metadata": {
      "needs_background": "light"
     },
     "output_type": "display_data"
    }
   ],
   "source": []
  },
  {
   "cell_type": "code",
   "execution_count": 176,
   "metadata": {},
   "outputs": [
    {
     "data": {
      "text/plain": [
       "count    38416.000000\n",
       "mean         0.132410\n",
       "std          0.146716\n",
       "min          0.000046\n",
       "20%          0.028618\n",
       "40%          0.061711\n",
       "50%          0.082438\n",
       "60%          0.108742\n",
       "80%          0.208425\n",
       "90%          0.319447\n",
       "max          1.000000\n",
       "dtype: float64"
      ]
     },
     "execution_count": 176,
     "metadata": {},
     "output_type": "execute_result"
    }
   ],
   "source": []
  }
 ],
 "metadata": {
  "kernelspec": {
   "display_name": "Python 3",
   "language": "python",
   "name": "python3"
  },
  "language_info": {
   "codemirror_mode": {
    "name": "ipython",
    "version": 3
   },
   "file_extension": ".py",
   "mimetype": "text/x-python",
   "name": "python",
   "nbconvert_exporter": "python",
   "pygments_lexer": "ipython3",
   "version": "3.7.0"
  }
 },
 "nbformat": 4,
 "nbformat_minor": 2
}
